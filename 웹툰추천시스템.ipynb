{
  "nbformat": 4,
  "nbformat_minor": 0,
  "metadata": {
    "colab": {
      "private_outputs": true,
      "provenance": [],
      "gpuType": "T4",
      "authorship_tag": "ABX9TyNamb8bqGFO2Gyh7PGa/BNV",
      "include_colab_link": true
    },
    "kernelspec": {
      "name": "python3",
      "display_name": "Python 3"
    },
    "language_info": {
      "name": "python"
    },
    "accelerator": "GPU"
  },
  "cells": [
    {
      "cell_type": "markdown",
      "metadata": {
        "id": "view-in-github",
        "colab_type": "text"
      },
      "source": [
        "<a href=\"https://colab.research.google.com/github/JuyeongKime2/Webtoon-recommendation-system/blob/main/%EC%9B%B9%ED%88%B0%EC%B6%94%EC%B2%9C%EC%8B%9C%EC%8A%A4%ED%85%9C.ipynb\" target=\"_parent\"><img src=\"https://colab.research.google.com/assets/colab-badge.svg\" alt=\"Open In Colab\"/></a>"
      ]
    },
    {
      "cell_type": "markdown",
      "source": [
        "# 웹툰추천시스템"
      ],
      "metadata": {
        "id": "IkPxWBiBaUIz"
      }
    },
    {
      "cell_type": "markdown",
      "source": [
        "## 1. 필요한 라이브러리 임포트"
      ],
      "metadata": {
        "id": "kmvWdyYNHwML"
      }
    },
    {
      "cell_type": "code",
      "execution_count": null,
      "metadata": {
        "id": "c5G51VxpmaGw"
      },
      "outputs": [],
      "source": [
        "from sklearn.feature_extraction.text import TfidfVectorizer\n",
        "from sklearn.metrics.pairwise import cosine_similarity\n",
        "import pandas as pd"
      ]
    },
    {
      "cell_type": "markdown",
      "source": [
        "## 2. CSV 파일 불러오기"
      ],
      "metadata": {
        "id": "M7kEl_8rHutw"
      }
    },
    {
      "cell_type": "code",
      "source": [
        "file_path = '/content/Updated_Naver_Webtoon_Dataset.csv'\n",
        "webtoon_data = pd.read_csv(file_path)"
      ],
      "metadata": {
        "id": "z6RK3iFwHsfA"
      },
      "execution_count": null,
      "outputs": []
    },
    {
      "cell_type": "code",
      "source": [
        "webtoon_data"
      ],
      "metadata": {
        "id": "c5ITXD4QIMDv"
      },
      "execution_count": null,
      "outputs": []
    },
    {
      "cell_type": "markdown",
      "source": [
        "## 3. 'genre'와 'description'을 결합하여 웹툰의 전체적인 콘텐츠 특성을 생성"
      ],
      "metadata": {
        "id": "YALlCBAsJqke"
      }
    },
    {
      "cell_type": "code",
      "source": [
        "webtoon_data['content'] = webtoon_data['genre'] + ' ' + webtoon_data['description']"
      ],
      "metadata": {
        "id": "34GDEXAgH6PX"
      },
      "execution_count": null,
      "outputs": []
    },
    {
      "cell_type": "markdown",
      "source": [
        "## 4. TF-IDF 벡터화기를 초기화하여 'content' 텍스트를 벡터로 변환"
      ],
      "metadata": {
        "id": "4g32SqQ2J6Dv"
      }
    },
    {
      "cell_type": "code",
      "source": [
        "tfidf = TfidfVectorizer(stop_words='english', max_features=5000)"
      ],
      "metadata": {
        "id": "JuCn0RBGJSoG"
      },
      "execution_count": null,
      "outputs": []
    },
    {
      "cell_type": "code",
      "source": [
        "# TF-IDF 변환 후 벡터 크기 확인\n",
        "print(tfidf_matrix.shape)  # (문서 수, 단어 수)"
      ],
      "metadata": {
        "id": "VAw50KfWL0k0"
      },
      "execution_count": null,
      "outputs": []
    },
    {
      "cell_type": "markdown",
      "source": [
        "# 5. 'content' 데이터를 TF-IDF 벡터로 변환"
      ],
      "metadata": {
        "id": "_ZNqdU7FKDqu"
      }
    },
    {
      "cell_type": "code",
      "source": [
        "tfidf_matrix = tfidf.fit_transform(webtoon_data['content'])"
      ],
      "metadata": {
        "id": "NrkKDAkNJU7O"
      },
      "execution_count": null,
      "outputs": []
    },
    {
      "cell_type": "markdown",
      "source": [
        "# 6. 모든 웹툰 간의 코사인 유사도(Cosine Similarity)를 계산"
      ],
      "metadata": {
        "id": "HR3nASOpMZRz"
      }
    },
    {
      "cell_type": "code",
      "source": [
        "cosine_sim = cosine_similarity(tfidf_matrix, tfidf_matrix)"
      ],
      "metadata": {
        "id": "m4s4pJ4tJW2G"
      },
      "execution_count": null,
      "outputs": []
    },
    {
      "cell_type": "code",
      "source": [
        "# 주어진 제목을 바탕으로 유사한 웹툰을 추천하는 함수 생성\n",
        "def get_recommendations_with_info(title, cosine_sim=cosine_sim):\n",
        "    # 주어진 제목과 일치하는 웹툰의 인덱스 찾기\n",
        "    idx = webtoon_data[webtoon_data['title'] == title].index[0]\n",
        "\n",
        "    # 선택한 웹툰과 다른 웹툰 간의 유사도 점수를 가져옴\n",
        "    sim_scores = list(enumerate(cosine_sim[idx]))\n",
        "\n",
        "    # 유사도 점수를 기준으로 내림차순 정렬\n",
        "    sim_scores = sorted(sim_scores, key=lambda x: x[1], reverse=True)\n",
        "\n",
        "    # 가장 유사한 10개의 웹툰 인덱스 가져오기 (첫 번째는 동일한 웹툰이므로 제외)\n",
        "    sim_scores = sim_scores[1:11]\n",
        "\n",
        "    # 추천된 웹툰의 인덱스 리스트\n",
        "    webtoon_indices = [i[0] for i in sim_scores]\n",
        "\n",
        "    # 유사한 웹툰의 전체 정보를 데이터프레임으로 반환\n",
        "    return webtoon_data.iloc[webtoon_indices]"
      ],
      "metadata": {
        "id": "KXZeZ4r6JatF"
      },
      "execution_count": null,
      "outputs": []
    },
    {
      "cell_type": "markdown",
      "source": [
        "# 7. 웹툰 추천"
      ],
      "metadata": {
        "id": "oNbJot-1W_Cw"
      }
    },
    {
      "cell_type": "code",
      "source": [
        "recommended_webtoons_info = get_recommendations_with_info('이십팔세기 광팬')"
      ],
      "metadata": {
        "id": "L2RmzQLnW5XG"
      },
      "execution_count": null,
      "outputs": []
    },
    {
      "cell_type": "code",
      "source": [
        "# 추천된 웹툰 정보를 CSV 파일로 저장하는 함수\n",
        "def save_recommendations_to_csv(recommendations, filename):\n",
        "    # 추천된 웹툰 정보를 CSV 파일로 저장\n",
        "    recommendations.to_csv(filename, index=False, encoding='utf-8-sig')\n",
        "\n",
        "# '놓지마 정신줄 시즌3'에 대한 추천 웹툰의 정보를 모두 받기\n",
        "recommended_webtoons_info = get_recommendations_with_info('이십팔세기 광팬')\n",
        "\n",
        "# 추천된 웹툰의 정보를 CSV 파일로 저장\n",
        "save_recommendations_to_csv(recommended_webtoons_info, '/content/recommended_webtoons.csv')\n",
        "\n",
        "# CSV 파일 저장 완료 메시지 출력\n",
        "print(\"추천된 웹툰 정보가 'recommended_webtoons.csv' 파일로 저장되었습니다.\")\n"
      ],
      "metadata": {
        "id": "_TXw3Jj5VYrI"
      },
      "execution_count": null,
      "outputs": []
    },
    {
      "cell_type": "markdown",
      "source": [
        "# 추천된 웹툰 명단 출력"
      ],
      "metadata": {
        "id": "GuUzRQUPVrjW"
      }
    },
    {
      "cell_type": "code",
      "source": [
        "webtoon_recommendations= '/content/recommended_webtoons.csv'\n",
        "webtoon_data = pd.read_csv(webtoon_recommendations)\n",
        "webtoon_data"
      ],
      "metadata": {
        "id": "LK7eXcueVrDo"
      },
      "execution_count": null,
      "outputs": []
    }
  ]
}